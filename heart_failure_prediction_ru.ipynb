{
 "cells": [
  {
   "cell_type": "markdown",
   "id": "cdc85a06",
   "metadata": {},
   "source": [
    "# Установка зависимостей"
   ]
  },
  {
   "cell_type": "code",
   "execution_count": null,
   "id": "41181a86",
   "metadata": {},
   "outputs": [],
   "source": [
    "%pip install kagglehub\n",
    "%pip install pandas\n",
    "%pip install matplotlib\n",
    "%pip install seaborn\n",
    "%pip install sklearn"
   ]
  },
  {
   "cell_type": "markdown",
   "id": "d76bbb29",
   "metadata": {},
   "source": [
    "# Импорт библиотек"
   ]
  },
  {
   "cell_type": "code",
   "execution_count": null,
   "id": "13c4ee77",
   "metadata": {},
   "outputs": [],
   "source": [
    "import kagglehub\n",
    "import pandas as pd\n",
    "import matplotlib.pyplot as plt\n",
    "import seaborn as sns\n",
    "\n",
    "from sklearn.pipeline import Pipeline\n",
    "from sklearn.preprocessing import StandardScaler\n",
    "from sklearn.model_selection import train_test_split, StratifiedKFold, cross_val_score, GridSearchCV\n",
    "\n",
    "from sklearn.linear_model import LogisticRegression\n",
    "from sklearn.ensemble import RandomForestClassifier\n",
    "from sklearn.neighbors import KNeighborsClassifier\n",
    "from xgboost import XGBClassifier\n",
    "\n",
    "from sklearn.metrics import accuracy_score, precision_score, recall_score, f1_score,\\\n",
    "    confusion_matrix, ConfusionMatrixDisplay, roc_auc_score, RocCurveDisplay\n",
    "\n",
    "import warnings\n",
    "warnings.simplefilter(\"ignore\", FutureWarning)\n",
    "%matplotlib inline"
   ]
  },
  {
   "cell_type": "markdown",
   "id": "79cb553f",
   "metadata": {},
   "source": [
    "# Вспомогательная функция для печати метрик"
   ]
  },
  {
   "cell_type": "code",
   "execution_count": null,
   "id": "d4d4474d",
   "metadata": {},
   "outputs": [],
   "source": [
    "def printer(name, model, x_train_scaled, x_test_scaled, y_train, y_test):\n",
    "    print(\"===== \" + name + \" =====\\n\")\n",
    "\n",
    "    x_train_scaled_predicted = model.predict(x_train_scaled)\n",
    "    x_test_scaled_predicted = model.predict(x_test_scaled)\n",
    "\n",
    "    print(\"Точность (Train):           \", accuracy_score(y_train, x_train_scaled_predicted))\n",
    "    print(\"Точность (Test):            \", accuracy_score(y_test, x_test_scaled_predicted))\n",
    "    print()\n",
    "\n",
    "    print(\"Точность (Train Precision): \", precision_score(y_train, x_train_scaled_predicted))\n",
    "    print(\"Точность (Test Precision):  \", precision_score(y_test, x_test_scaled_predicted))\n",
    "    print()\n",
    "\n",
    "    print(\"Полнота (Train Recall):     \", recall_score(y_train, x_train_scaled_predicted))\n",
    "    print(\"Полнота (Test Recall):      \", recall_score(y_test, x_test_scaled_predicted))\n",
    "    print()\n",
    "\n",
    "    print(\"F1-метрика (Train):         \", f1_score(y_train, x_train_scaled_predicted))\n",
    "    print(\"F1-метрика (Test):          \", f1_score(y_test, x_test_scaled_predicted))\n",
    "    print()\n",
    "\n",
    "    print(\"Матрица ошибок (Train):\")\n",
    "    disp = ConfusionMatrixDisplay(confusion_matrix(y_train, x_train_scaled_predicted))\n",
    "    disp.plot()\n",
    "    plt.show()\n",
    "\n",
    "    print(\"Матрица ошибок (Test):\")\n",
    "    disp = ConfusionMatrixDisplay(confusion_matrix(y_test, x_test_scaled_predicted))\n",
    "    disp.plot()\n",
    "    plt.show()"
   ]
  },
  {
   "cell_type": "markdown",
   "id": "276aca74",
   "metadata": {},
   "source": [
    "# Загрузка и подготовка данных"
   ]
  },
  {
   "cell_type": "code",
   "execution_count": null,
   "id": "0b7b9264",
   "metadata": {},
   "outputs": [],
   "source": [
    "path = kagglehub.dataset_download(\"aadarshvelu/heart-failure-prediction-clinical-records\")\n",
    "print(\"Путь к файлам датасета:\", path)"
   ]
  },
  {
   "cell_type": "code",
   "execution_count": null,
   "id": "ee118a97",
   "metadata": {},
   "outputs": [],
   "source": [
    "df = pd.read_csv(\"C:\\\\python\\\\GitHub Projects\\\\Heart-failure-prediction project\\\\heart_failure_clinical_records.csv\")"
   ]
  },
  {
   "cell_type": "code",
   "execution_count": null,
   "id": "772d4400",
   "metadata": {},
   "outputs": [],
   "source": [
    "x = df.drop(columns=[\"DEATH_EVENT\"], axis=1)\n",
    "y = df[\"DEATH_EVENT\"]"
   ]
  },
  {
   "cell_type": "code",
   "execution_count": null,
   "id": "83f4fcd8",
   "metadata": {},
   "outputs": [],
   "source": [
    "x_train, x_test, y_train, y_test = train_test_split(x, y, test_size=0.2, random_state=42)\n",
    "scaler = StandardScaler()\n",
    "x_train_scaled = scaler.fit_transform(x_train)\n",
    "x_test_scaled = scaler.transform(x_test)"
   ]
  },
  {
   "cell_type": "markdown",
   "id": "5bff770d",
   "metadata": {},
   "source": [
    "# Логистическая регрессия"
   ]
  },
  {
   "cell_type": "code",
   "execution_count": null,
   "id": "164c594f",
   "metadata": {},
   "outputs": [],
   "source": [
    "lr = LogisticRegression().fit(x_train_scaled, y_train)\n",
    "printer(\"Логистическая регрессия\", lr, x_train_scaled, x_test_scaled, y_train, y_test)"
   ]
  },
  {
   "cell_type": "markdown",
   "id": "363b49ad",
   "metadata": {},
   "source": [
    "# Случайный лес"
   ]
  },
  {
   "cell_type": "code",
   "execution_count": null,
   "id": "5b21f6c4",
   "metadata": {},
   "outputs": [],
   "source": [
    "rf = RandomForestClassifier(n_estimators=100, random_state=42).fit(x_train_scaled, y_train)\n",
    "printer(\"Случайный лес\", rf, x_train_scaled, x_test_scaled, y_train, y_test)"
   ]
  },
  {
   "cell_type": "markdown",
   "id": "90cf580e",
   "metadata": {},
   "source": [
    "# Метод ближайших соседей"
   ]
  },
  {
   "cell_type": "code",
   "execution_count": null,
   "id": "b5d97090",
   "metadata": {},
   "outputs": [],
   "source": [
    "kn = KNeighborsClassifier().fit(x_train_scaled, y_train)\n",
    "printer(\"K-ближайших соседей\", kn, x_train_scaled, x_test_scaled, y_train, y_test)"
   ]
  },
  {
   "cell_type": "markdown",
   "id": "47125133",
   "metadata": {},
   "source": [
    "# XGBoost"
   ]
  },
  {
   "cell_type": "code",
   "execution_count": null,
   "id": "82435822",
   "metadata": {},
   "outputs": [],
   "source": [
    "xgb = XGBClassifier().fit(x_train_scaled, y_train)\n",
    "printer(\"XGBoost\", xgb, x_train_scaled, x_test_scaled, y_train, y_test)"
   ]
  },
  {
   "cell_type": "markdown",
   "id": "5802b548",
   "metadata": {},
   "source": [
    "# Сравнение моделей (кросс-валидация)"
   ]
  },
  {
   "cell_type": "code",
   "execution_count": null,
   "id": "a9f892d4",
   "metadata": {},
   "outputs": [],
   "source": [
    "skf = StratifiedKFold(n_splits=5, shuffle=True, random_state=42)\n",
    "lr_scores = cross_val_score(lr, x_train_scaled, y_train, cv=skf, scoring='f1')\n",
    "rf_scores = cross_val_score(rf, x_train_scaled, y_train, cv=skf, scoring='f1')\n",
    "kn_scores = cross_val_score(kn, x_train_scaled, y_train, cv=skf, scoring='f1')\n",
    "xgb_score = cross_val_score(xgb, x_train_scaled, y_train, cv=skf, scoring='f1')"
   ]
  },
  {
   "cell_type": "code",
   "execution_count": null,
   "id": "5eef903b",
   "metadata": {},
   "outputs": [],
   "source": [
    "print(\"Логистическая регрессия: %0.4f ± %0.4f\" % (lr_scores.mean(), lr_scores.std()))\n",
    "print(\"Случайный лес:           %0.4f ± %0.4f\" % (rf_scores.mean(), rf_scores.std()))\n",
    "print(\"Метод соседей:           %0.4f ± %0.4f\" % (kn_scores.mean(), kn_scores.std()))\n",
    "print(\"XGBoost:                 %0.4f ± %0.4f\" % (xgb_score.mean(), xgb_score.std()))"
   ]
  },
  {
   "cell_type": "markdown",
   "id": "6c3747f2",
   "metadata": {},
   "source": [
    "# Boxplot сравнение моделей по F1-метрике"
   ]
  },
  {
   "cell_type": "code",
   "execution_count": null,
   "id": "1405cf80",
   "metadata": {},
   "outputs": [],
   "source": [
    "plt.figure(figsize=(7, 7))\n",
    "sns.boxplot(data=[lr_scores, rf_scores, kn_scores, xgb_score])\n",
    "plt.xticks([0, 1, 2, 3], [\"LogReg\", \"RandomForest\", \"KNN\", \"XGB\"])\n",
    "plt.ylabel(\"F1-score\")\n",
    "plt.title(\"F1-score моделей (5-fold CV)\")\n",
    "plt.tight_layout()\n",
    "plt.show()"
   ]
  },
  {
   "cell_type": "markdown",
   "id": "27ddd774",
   "metadata": {},
   "source": [
    "# Подбор гиперпараметров (GridSearchCV)"
   ]
  },
  {
   "cell_type": "code",
   "execution_count": null,
   "id": "e61d68e7",
   "metadata": {},
   "outputs": [],
   "source": [
    "pipe = Pipeline([\n",
    "    ('scaler', StandardScaler()),\n",
    "    ('clf', LogisticRegression())\n",
    "])\n",
    "\n",
    "param_grid = [\n",
    "    {\n",
    "        'clf': [LogisticRegression()], \n",
    "        'clf__C': [0.1, 1, 10]\n",
    "    },\n",
    "    {\n",
    "        'clf': [RandomForestClassifier(random_state=42)], \n",
    "        'clf__n_estimators': [50, 100, 200], \n",
    "        'clf__max_depth': [None, 5, 10]\n",
    "    },\n",
    "    {\n",
    "        'clf': [KNeighborsClassifier()], \n",
    "        'clf__n_neighbors': [5, 10, 15]\n",
    "    },\n",
    "    {\n",
    "        'clf': [XGBClassifier()], \n",
    "        'clf__n_estimators': [100, 200], \n",
    "        'clf__max_depth': [3, 5, 7], \n",
    "        'clf__learning_rate': [0.01, 0.1]\n",
    "    }\n",
    "]\n",
    "\n",
    "grid = GridSearchCV(pipe, param_grid, cv=5, scoring='f1')\n",
    "grid.fit(x_train_scaled, y_train)\n",
    "\n",
    "results = pd.DataFrame(grid.cv_results_)\n",
    "cols = ['param_clf', 'mean_test_score', 'std_test_score', 'params']\n",
    "print(results[cols].sort_values('mean_test_score', ascending=False))"
   ]
  },
  {
   "cell_type": "markdown",
   "id": "c06bcf2b",
   "metadata": {},
   "source": [
    "# ROC-кривые и AUC для лучших моделей"
   ]
  },
  {
   "cell_type": "code",
   "execution_count": null,
   "id": "3ae64abd",
   "metadata": {},
   "outputs": [],
   "source": [
    "RocCurveDisplay.from_estimator(xgb, x_test_scaled, y_test)\n",
    "RocCurveDisplay.from_estimator(rf, x_test_scaled, y_test)\n",
    "\n",
    "y_pred_xgb = xgb.predict_proba(x_test_scaled)[:, 1]\n",
    "y_pred_rf = rf.predict_proba(x_test_scaled)[:, 1]\n",
    "\n",
    "print(\"XGB AUC:          \", roc_auc_score(y_test, y_pred_xgb))\n",
    "print(\"Random Forest AUC:\", roc_auc_score(y_test, y_pred_rf))"
   ]
  },
  {
   "cell_type": "markdown",
   "id": "05fd78e3",
   "metadata": {},
   "source": [
    "# Важность признаков"
   ]
  },
  {
   "cell_type": "code",
   "execution_count": null,
   "id": "38d2d45c",
   "metadata": {},
   "outputs": [],
   "source": [
    "dt_val_rf = pd.Series(rf.feature_importances_, index=x.columns).sort_values(ascending=False)\n",
    "dt_val_xgb = pd.Series(xgb.feature_importances_, index=x.columns).sort_values(ascending=False)\n",
    "\n",
    "plt.figure(figsize=(10, 5))\n",
    "plt.bar(dt_val_rf.index, dt_val_rf.values, alpha=0.6, label='RandomForest')\n",
    "plt.bar(dt_val_xgb.index, dt_val_xgb.values, alpha=0.6, label='XGBoost')\n",
    "plt.xticks(rotation=45, ha='right')\n",
    "plt.ylabel('Важность признака')\n",
    "plt.title('Сравнение важности признаков')\n",
    "plt.legend()\n",
    "plt.tight_layout()\n",
    "plt.show()"
   ]
  },
  {
   "cell_type": "markdown",
   "id": "27550277",
   "metadata": {},
   "source": [
    "# Вывод\n",
    "\n",
    "Модель **XGBoost** показала себя лучше, чем Random Forest. Несмотря на близкие значения AUC, у XGB более компактное распределение F1-оценок и лучшие результаты перекрёстной проверки.\n",
    "\n",
    "F1-score XGB: **0.9873 ± 0.0031**\n",
    "\n",
    "F1-score Random Forest: **0.9869 ± 0.0041**\n",
    "\n",
    "Как и ожидалось, наибольшее влияние на предсказание оказывает параметр **time of monitoring (в днях)**."
   ]
  }
 ],
 "metadata": {
  "kernelspec": {
   "display_name": "Python 3",
   "language": "python",
   "name": "python3"
  },
  "language_info": {
   "codemirror_mode": {
    "name": "ipython",
    "version": 3
   },
   "file_extension": ".py",
   "mimetype": "text/x-python",
   "name": "python",
   "nbconvert_exporter": "python",
   "pygments_lexer": "ipython3",
   "version": "3.13.3"
  }
 },
 "nbformat": 4,
 "nbformat_minor": 5
}
